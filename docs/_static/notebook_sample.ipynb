{
 "cells": [
  {
   "cell_type": "markdown",
   "metadata": {},
   "source": [
    "# NoteBook 使用示例"
   ]
  },
  {
   "cell_type": "code",
   "execution_count": 1,
   "metadata": {},
   "outputs": [
    {
     "name": "stderr",
     "output_type": "stream",
     "text": [
      "配置文件(~/.config/fintie)不存在，配置设置为空\n"
     ]
    }
   ],
   "source": [
    "from datetime import datetime\n",
    "from fintie import stock\n",
    "from fintie.env import get_http_session\n",
    "\n",
    "session = get_http_session()"
   ]
  },
  {
   "cell_type": "code",
   "execution_count": 2,
   "metadata": {
    "scrolled": true
   },
   "outputs": [
    {
     "name": "stdout",
     "output_type": "stream",
     "text": [
      "           bps  current   eps exchange      fmc  hasExist  \\\n",
      "symbol                                                      \n",
      "SZ300749  4.37    27.60  0.28       SZ   7.8660     False   \n",
      "SZ300748  2.23    22.95  0.14       SZ   9.5472     False   \n",
      "SZ300694  4.10    23.10  0.36       SZ  12.4347     False   \n",
      "\n",
      "                                id  name   pct  roediluted  volume  \n",
      "symbol                                                              \n",
      "SZ300749  5baa116ce4b07f0b4a739de8  顶固集创 -5.15        6.72  190.68  \n",
      "SZ300748  5ba4cb54e4b07f0b4a739de5  金力永磁 -4.10        6.38  296.39  \n",
      "SZ300694  5bc46fa9c1362b7c0e7cc120  蠡湖股份 -0.22        9.29  383.60  \n"
     ]
    }
   ],
   "source": [
    "filter_dict = {'current': \"ALL\", \"fmc\":\"ALL\", \"eps.20180630\":\"ALL\", \"bps.20180630\": \"ALL\", \"roediluted.20180630\": \"ALL\", \"volume\":\"ALL\"}\n",
    "df = await stock.async_pick_stocks(session, filter_dict=filter_dict)\n",
    "df.bps = [bps['20180630'] for bps in df.bps]\n",
    "df.eps = [eps['20180630'] for eps in df.eps]\n",
    "df.roediluted = [roediluted['20180630'] for roediluted in df.roediluted]\n",
    "print(df[:3])"
   ]
  },
  {
   "cell_type": "code",
   "execution_count": 2,
   "metadata": {
    "scrolled": false
   },
   "outputs": [
    {
     "name": "stdout",
     "output_type": "stream",
     "text": [
      "                 amount change    code current hasexist  high high52w   low  \\\n",
      "symbol                                                                        \n",
      "SZ002089   6.08509021E7   0.29  002089    3.14    false  3.14    6.92  2.85   \n",
      "SH600355    7.8181266E7    0.3  600355    3.25    false  3.25    9.87  2.96   \n",
      "SH600186    4.8377088E7   0.18  600186    1.95    false  1.95    4.01  1.75   \n",
      "SZ000679  4.091829074E7   0.35  000679     3.8    false   3.8    8.38  3.41   \n",
      "SH600864   3.55903313E8   0.39  600864    4.24    false  4.24    8.21  3.76   \n",
      "\n",
      "         low52w    marketcapital  name percent pettm type    volume  \n",
      "symbol                                                               \n",
      "SZ002089    2.5  4.31646259424E9   新海宜   10.18         11  20070771  \n",
      "SH600355   2.45      1.5992899E9  精伦电子   10.17         11  24994035  \n",
      "SH600186   1.58  2.07094740645E9  莲花健康   10.17         11  25548094  \n",
      "SZ000679   2.98        1.35432E9  大连友谊   10.14         11  11086256  \n",
      "SH600864   2.98  8.94009835088E9  哈投股份   10.13         11  87402246  \n"
     ]
    }
   ],
   "source": [
    "df = await stock.async_get_list_qutes(session)\n",
    "print(df[:5])"
   ]
  },
  {
   "cell_type": "code",
   "execution_count": 4,
   "metadata": {},
   "outputs": [
    {
     "name": "stdout",
     "output_type": "stream",
     "text": [
      "                     volume   open   high    low  close   chg  percent  \\\n",
      "timestamp                                                                \n",
      "2018-10-29 02:13:00   41900  20.41  20.46  20.41  20.43  0.02     0.10   \n",
      "2018-10-29 02:14:00   20900  20.43  20.47  20.42  20.44  0.01     0.05   \n",
      "2018-10-29 02:15:00   28700  20.44  20.46  20.43  20.46  0.02     0.10   \n",
      "2018-10-29 02:16:00   26500  20.45  20.45  20.43  20.44 -0.02    -0.10   \n",
      "2018-10-29 02:17:00   22100  20.43  20.44  20.42  20.43 -0.01    -0.05   \n",
      "\n",
      "                     turnoverrate     ma5    ma10   ...        rsi2     rsi3  \\\n",
      "timestamp                                           ...                        \n",
      "2018-10-29 02:13:00          0.01  20.458  20.484   ...     43.4364  52.4317   \n",
      "2018-10-29 02:14:00          0.00  20.444  20.474   ...     45.2052  53.1035   \n",
      "2018-10-29 02:15:00          0.00  20.436  20.471   ...     48.7039  54.3996   \n",
      "2018-10-29 02:16:00          0.01  20.438  20.465   ...     47.0651  53.6420   \n",
      "2018-10-29 02:17:00          0.00  20.440  20.458   ...     43.9708  52.1277   \n",
      "\n",
      "                         wr6     wr10   bias1   bias2   bias3       cci  \\\n",
      "timestamp                                                                 \n",
      "2018-10-29 02:13:00  60.0000  66.6667 -0.1873 -0.3050 -0.3637 -133.4859   \n",
      "2018-10-29 02:14:00  50.0000  58.8235 -0.0733 -0.2237 -0.2967  -88.8444   \n",
      "2018-10-29 02:15:00  35.7143  40.0000  0.0652 -0.0895 -0.1870  -63.0864   \n",
      "2018-10-29 02:16:00  20.0000  46.6667  0.0571 -0.1018 -0.2115  -63.1422   \n",
      "2018-10-29 02:17:00  40.0000  60.0000 -0.0245 -0.1710 -0.2908  -73.7307   \n",
      "\n",
      "                         psy    psyma  \n",
      "timestamp                              \n",
      "2018-10-29 02:13:00  41.6667  38.8889  \n",
      "2018-10-29 02:14:00  41.6667  38.8889  \n",
      "2018-10-29 02:15:00  41.6667  38.8889  \n",
      "2018-10-29 02:16:00  41.6667  38.8889  \n",
      "2018-10-29 02:17:00  41.6667  40.2778  \n",
      "\n",
      "[5 rows x 32 columns]\n"
     ]
    }
   ],
   "source": [
    "df = await stock.async_get_hist_quotes(session, symbol=\"SZ002353\", ref_dt=datetime.now(), count=-250, freq=\"1m\")\n",
    "print(df[:5])"
   ]
  },
  {
   "cell_type": "code",
   "execution_count": 9,
   "metadata": {},
   "outputs": [
    {
     "name": "stdout",
     "output_type": "stream",
     "text": [
      "{'symbol': 'SZ002353', 'timestamp': 1540866312000, 'bp1': 19.64, 'bc1': 700, 'bn1': None, 'bp2': 19.63, 'bc2': 6000, 'bn2': None, 'bp3': 19.62, 'bc3': 6200, 'bp4': 19.61, 'bn3': None, 'bc4': 9800, 'bn4': None, 'bp5': 19.6, 'bc5': 6300, 'bn5': None, 'bp6': None, 'bc6': None, 'bn6': None, 'bp7': None, 'bc7': None, 'bn7': None, 'bp8': None, 'bc8': None, 'bn8': None, 'bp9': None, 'bc9': None, 'bn9': None, 'bp10': None, 'bc10': None, 'bn10': None, 'current': 19.69, 'sp1': 19.69, 'sc1': 3000, 'sn1': None, 'sp2': 19.7, 'sc2': 15200, 'sn2': None, 'sp3': 19.71, 'sc3': 2200, 'sn3': None, 'sp4': 19.74, 'sc4': 10100, 'sn4': None, 'sp5': 19.75, 'sc5': 21200, 'sn5': None, 'sp6': None, 'sc6': None, 'sn6': None, 'sp7': None, 'sc7': None, 'sn7': None, 'sp8': None, 'sc8': None, 'sn8': None, 'sp9': None, 'sc9': None, 'sn9': None, 'sp10': None, 'sc10': None, 'sn10': None, 'buypct': 35.94, 'sellpct': 64.06, 'diff': -22700, 'ratio': -28.13, 'level': 1}\n"
     ]
    }
   ],
   "source": [
    "pk_dict = await stock.async_get_pankou(session, \"SZ002353\")\n",
    "print(pk_dict)"
   ]
  }
 ],
 "metadata": {
  "kernelspec": {
   "display_name": "Python 3",
   "language": "python",
   "name": "python3"
  },
  "language_info": {
   "codemirror_mode": {
    "name": "ipython",
    "version": 3
   },
   "file_extension": ".py",
   "mimetype": "text/x-python",
   "name": "python",
   "nbconvert_exporter": "python",
   "pygments_lexer": "ipython3",
   "version": "3.7.0"
  }
 },
 "nbformat": 4,
 "nbformat_minor": 2
}
